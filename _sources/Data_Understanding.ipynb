{
 "cells": [
  {
   "cell_type": "markdown",
   "metadata": {
    "id": "cljZWqmfCkf_"
   },
   "source": [
    "# **DATA UNDERSTANDING**    "
   ]
  },
  {
   "cell_type": "markdown",
   "metadata": {
    "id": "d3FeI8m5xK23"
   },
   "source": [
    "# **1. Sumber Data**\n",
    "Dataset eksternal dari Kaggle: Stroke Prediction Dataset"
   ]
  },
  {
   "cell_type": "markdown",
   "metadata": {
    "id": "ABPTbshKxPN9"
   },
   "source": [
    "# **2. Tipe Data**\n"
   ]
  },
  {
   "cell_type": "code",
   "execution_count": null,
   "metadata": {
    "colab": {
     "base_uri": "https://localhost:8080/",
     "height": 426
    },
    "executionInfo": {
     "elapsed": 347,
     "status": "ok",
     "timestamp": 1758588668553,
     "user": {
      "displayName": "23-155 Angger Maulana Effendi",
      "userId": "13071576141889292093"
     },
     "user_tz": -420
    },
    "id": "CRDIRiUlDVnx",
    "outputId": "48329861-d833-4755-a344-f5e22c7ba3ba"
   },
   "outputs": [
    {
     "data": {
      "text/html": [
       "<table border=\"1\" class=\"dataframe\">\n",
       "  <thead>\n",
       "    <tr style=\"text-align: right;\">\n",
       "      <th>Kolom</th>\n",
       "      <th>Tipe Data</th>\n",
       "    </tr>\n",
       "  </thead>\n",
       "  <tbody>\n",
       "    <tr>\n",
       "      <td>id</td>\n",
       "      <td>int64 (numerik, ID unik)</td>\n",
       "    </tr>\n",
       "    <tr>\n",
       "      <td>gender</td>\n",
       "      <td>object (kategorikal)</td>\n",
       "    </tr>\n",
       "    <tr>\n",
       "      <td>age</td>\n",
       "      <td>float64 (numerik kontinu)</td>\n",
       "    </tr>\n",
       "    <tr>\n",
       "      <td>hypertension</td>\n",
       "      <td>int64 (diskrit/biner)</td>\n",
       "    </tr>\n",
       "    <tr>\n",
       "      <td>heart_disease</td>\n",
       "      <td>int64 (diskrit/biner)</td>\n",
       "    </tr>\n",
       "    <tr>\n",
       "      <td>ever_married</td>\n",
       "      <td>object (kategorikal)</td>\n",
       "    </tr>\n",
       "    <tr>\n",
       "      <td>work_type</td>\n",
       "      <td>object (kategorikal)</td>\n",
       "    </tr>\n",
       "    <tr>\n",
       "      <td>Residence_type</td>\n",
       "      <td>object (kategorikal)</td>\n",
       "    </tr>\n",
       "    <tr>\n",
       "      <td>avg_glucose_level</td>\n",
       "      <td>float64 (numerik kontinu)</td>\n",
       "    </tr>\n",
       "    <tr>\n",
       "      <td>bmi</td>\n",
       "      <td>float64 (numerik kontinu, ada NaN)</td>\n",
       "    </tr>\n",
       "    <tr>\n",
       "      <td>smoking_status</td>\n",
       "      <td>object (kategorikal)</td>\n",
       "    </tr>\n",
       "    <tr>\n",
       "      <td>stroke</td>\n",
       "      <td>int64 (diskrit/biner)</td>\n",
       "    </tr>\n",
       "  </tbody>\n",
       "</table>"
      ],
      "text/plain": [
       "<IPython.core.display.HTML object>"
      ]
     },
     "metadata": {},
     "output_type": "display_data"
    }
   ],
   "source": [
    "import pandas as pd\n",
    "\n",
    "# Buat tabel tipe data\n",
    "data_types = {\n",
    "    \"Kolom\": [\n",
    "        \"id\", \"gender\", \"age\", \"hypertension\", \"heart_disease\",\n",
    "        \"ever_married\", \"work_type\", \"Residence_type\",\n",
    "        \"avg_glucose_level\", \"bmi\", \"smoking_status\", \"stroke\"\n",
    "    ],\n",
    "    \"Tipe Data\": [\n",
    "        \"int64 (numerik, ID unik)\",\n",
    "        \"object (kategorikal)\",\n",
    "        \"float64 (numerik kontinu)\",\n",
    "        \"int64 (diskrit/biner)\",\n",
    "        \"int64 (diskrit/biner)\",\n",
    "        \"object (kategorikal)\",\n",
    "        \"object (kategorikal)\",\n",
    "        \"object (kategorikal)\",\n",
    "        \"float64 (numerik kontinu)\",\n",
    "        \"float64 (numerik kontinu, ada NaN)\",\n",
    "        \"object (kategorikal)\",\n",
    "        \"int64 (diskrit/biner)\"\n",
    "    ]\n",
    "}\n",
    "\n",
    "df_types = pd.DataFrame(data_types)\n",
    "\n",
    "# Tampilkan dalam bentuk tabel HTML\n",
    "from IPython.display import display, HTML\n",
    "display(HTML(df_types.to_html(index=False)))\n"
   ]
  },
  {
   "cell_type": "markdown",
   "metadata": {
    "id": "WyvR0u4yHUbZ"
   },
   "source": [
    "Connect Postgre SQL ke Power BI Menggunakan Skrip Python"
   ]
  },
  {
   "cell_type": "code",
   "execution_count": null,
   "metadata": {
    "id": "_TbvNtfSHS5h"
   },
   "outputs": [],
   "source": [
    "import pandas as pd\n",
    "from sqlalchemy import create_engine\n",
    "import numpy as np\n",
    "\n",
    "# Koneksi PostgreSQL\n",
    "user = \"postgres\"\n",
    "password = \"postgres\"\n",
    "host = \"localhost\"\n",
    "port = \"5432\"\n",
    "database = \"proyek_sainsdata\"\n",
    "\n",
    "engine = create_engine(f\"postgresql+psycopg2://{user}:{password}@{host}:{port}/{database}\")\n",
    "\n",
    "# Query ambil data\n",
    "query = \"SELECT * FROM stroke_data\"\n",
    "\n",
    "# Baca ke DataFrame\n",
    "df = pd.read_sql(query, engine)\n",
    "\n",
    "# 🔑 Perbaikan encoding & nilai aneh\n",
    "df.replace('N/A', np.nan, inplace=True)   # ganti 'N/A' jadi NaN\n",
    "df = df.applymap(lambda x: x.strip() if isinstance(x, str) else x)  # buang spasi aneh\n",
    "df = df.astype(str).apply(lambda col: col.str.encode('utf-8', 'ignore').str.decode('utf-8'))  # pastikan UTF-8\n",
    "\n",
    "# Hasil ke Power BI\n",
    "dataset = df"
   ]
  },
  {
   "cell_type": "markdown",
   "metadata": {
    "id": "6JEdgzZRxdeJ"
   },
   "source": [
    "# **3. Kualitas Data**\n",
    "Missing Values: kolombmi memiliki data kosong.\n",
    "\n",
    "*   Outliers: age, avg_glucose_level, bmi memiliki nilai ekstrem.\n",
    "*   Konsistensi Data: Rata rata data konsistensi kevalidtannya yaitu 100% valid,\n",
    "*   hanya BMI saja yang 94% datanya valid.\n",
    "\n",
    "\n",
    "\n",
    "\n"
   ]
  }
 ],
 "metadata": {
  "colab": {
   "provenance": []
  },
  "kernelspec": {
   "display_name": "Python 3",
   "name": "python3"
  },
  "language_info": {
   "name": "python"
  }
 },
 "nbformat": 4,
 "nbformat_minor": 0
}
