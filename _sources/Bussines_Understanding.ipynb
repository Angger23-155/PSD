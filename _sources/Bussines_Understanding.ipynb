{
  "nbformat": 4,
  "nbformat_minor": 0,
  "metadata": {
    "colab": {
      "provenance": []
    },
    "kernelspec": {
      "name": "python3",
      "display_name": "Python 3"
    },
    "language_info": {
      "name": "python"
    }
  },
  "cells": [
    {
      "cell_type": "markdown",
      "source": [
        "# ***Bussines Understanding***"
      ],
      "metadata": {
        "id": "-ovlX5IiwRu0"
      }
    },
    {
      "cell_type": "markdown",
      "source": [
        "Business Understanding adalah tahap awal dalam proses analisis data atau Data Mining/Analytics, di mana fokusnya adalah memahami konteks bisnis dan tujuan proyek secara menyeluruh sebelum masuk ke data itu sendiri.\n",
        "\n",
        "1.Menetapkan tujuan proyek: Mengetahui apa yang ingin dicapai oleh bisnis, misalnya meningkatkan penjualan, mengurangi churn pelanggan, atau mendeteksi fraud.\n",
        "\n",
        "2.Memahami masalah bisnis: Menentukan pertanyaan atau masalah spesifik yang akan dijawab dengan data.\n",
        "\n",
        "3.Mendefinisikan kesuksesan: Menentukan bagaimana hasil analisis akan diukur, misalnya peningkatan persentase penjualan, akurasi prediksi, atau efisiensi proses.\n",
        "\n",
        "4.Merencanakan strategi analisis: Memutuskan langkah awal yang tepat, seperti jenis data yang diperlukan dan teknik analisis yang akan digunakan."
      ],
      "metadata": {
        "id": "CU0edpwPwOG0"
      }
    },
    {
      "cell_type": "markdown",
      "source": [
        "# ***Kesimpulan***\n",
        "Tahap Business Understanding penting untuk memastikan seluruh proses analisis data selaras dengan tujuan bisnis. Pada tahap ini, kita mengidentifikasi masalah yang ingin diselesaikan, menetapkan tujuan proyek, dan menentukan indikator kesuksesan yang jelas. Dengan pemahaman bisnis yang baik, langkah-langkah selanjutnya, termasuk pengumpulan dan analisis data, dapat dilakukan secara tepat dan efektif. Secara keseluruhan, Business Understanding menjadi fondasi agar hasil analisis data relevan dan memberikan nilai nyata bagi bisnis atau organisasi."
      ],
      "metadata": {
        "id": "2dF9VP3ZwYAR"
      }
    }
  ]
}