{
  "nbformat": 4,
  "nbformat_minor": 0,
  "metadata": {
    "colab": {
      "provenance": []
    },
    "kernelspec": {
      "name": "python3",
      "display_name": "Python 3"
    },
    "language_info": {
      "name": "python"
    }
  },
  "cells": [
    {
      "cell_type": "markdown",
      "source": [
        "# ***ENSEMBLE LEARNING***"
      ],
      "metadata": {
        "id": "qjbr9A1Jc2eU"
      }
    },
    {
      "cell_type": "markdown",
      "source": [
        "# **APA ITU ENSEMBLE LEARNING?**\n",
        "\n",
        "\n",
        "---\n",
        "\n",
        "\n",
        "Ensemble learning adalah sebuah pendekatan dalam machine learning yang bertujuan untuk meningkatkan kinerja model dengan cara menggabungkan beberapa model sekaligus. Ide dasarnya sederhana: satu model saja sering kali memiliki kelemahan, entah itu mudah overfitting, hasilnya tidak stabil, atau akurasinya kurang tinggi. Dengan mengombinasikan banyak model, kelemahan tersebut bisa saling menutupi sehingga prediksi menjadi lebih akurat, stabil, dan dapat diandalkan.\n",
        "\n",
        "Dalam ensemble learning, ada dua komponen utama: base learner (model dasar) dan ensemble method (cara menggabungkannya). Base learner bisa berupa algoritma apa saja, seperti decision tree, SVM, Naive Bayes, atau KNN. Sedangkan ensemble method adalah strategi bagaimana model-model tersebut digabungkan. Ada tiga metode yang paling umum digunakan, yaitu:\n",
        "\n",
        "\n",
        "1.   **Bagging** (Bootstrap Aggregating) – membuat banyak model dari data latih yang diacak, lalu menggabungkan hasilnya dengan voting atau rata-rata. Contoh paling terkenal adalah Random Forest.\n",
        "2.   **IBoosting** – melatih model secara berurutan, di mana setiap model baru berusaha memperbaiki kesalahan dari model sebelumnya. Contohnya adalah AdaBoost, Gradient Boosting, dan XGBoost.\n",
        "3.   **Stacking** – menggabungkan berbagai model berbeda, lalu hasil prediksi mereka dijadikan input bagi model akhir (meta-learner) yang akan mengambil keputusan.\n",
        "\n",
        "\n",
        "Kelebihan ensemble learning adalah mampu meningkatkan akurasi, mengurangi variansi, dan memperbaiki generalisasi model. Namun, metode ini juga memiliki kekurangan, seperti komputasi yang lebih berat dan interpretasi yang lebih sulit dibandingkan model tunggal.\n",
        "\n",
        "Dengan kata lain, ensemble learning bekerja berdasarkan prinsip bahwa “banyak kepala lebih baik daripada satu”, sehingga prediksi yang dihasilkan akan lebih kuat daripada mengandalkan satu model saja."
      ],
      "metadata": {
        "id": "M3azA00WiKIe"
      }
    },
    {
      "cell_type": "markdown",
      "source": [
        "# **BAGGING CLASSIFIER WITH SVM DAN NAIVE BAYES**"
      ],
      "metadata": {
        "id": "LFzheQSWi-Ix"
      }
    },
    {
      "cell_type": "markdown",
      "source": [
        "**BAGGING CLASSIFIER SVM SEBELUM SMOTE**"
      ],
      "metadata": {
        "id": "x5UV15nskpU4"
      }
    },
    {
      "cell_type": "code",
      "source": [
        "import pandas as pd\n",
        "from sklearn.svm import SVC\n",
        "from sklearn.ensemble import BaggingClassifier\n",
        "from sklearn.model_selection import train_test_split\n",
        "from sklearn.metrics import accuracy_score, confusion_matrix, classification_report\n",
        "from imblearn.over_sampling import SMOTE\n",
        "import matplotlib.pyplot as plt\n",
        "import seaborn as sns\n",
        "\n",
        "# === 1. Baca dataset lokal (ganti sesuai nama file kamu) ===\n",
        "df = pd.read_csv(\"iris (1).csv\")\n",
        "\n",
        "# === 2. Pisahkan fitur (X) dan target (y) ===\n",
        "X = df.iloc[:, :-1]   # semua kolom kecuali terakhir\n",
        "y = df.iloc[:, -1]    # kolom terakhir sebagai target\n",
        "\n",
        "print(\"Kolom fitur:\", X.columns.tolist())\n",
        "print(\"Kolom target:\", y.name)\n",
        "\n",
        "# === 3. Split train-test ===\n",
        "X_train, X_test, y_train, y_test = train_test_split(\n",
        "    X, y, test_size=0.3, random_state=42, stratify=y\n",
        ")\n",
        "\n",
        "# === 4. Bagging SVM sebelum SMOTE ===\n",
        "clf_no_smote = BaggingClassifier(\n",
        "    estimator=SVC(),\n",
        "    n_estimators=50,\n",
        "    random_state=0\n",
        ")\n",
        "clf_no_smote.fit(X_train, y_train)\n",
        "y_pred_no = clf_no_smote.predict(X_test)\n",
        "\n",
        "print(\"\\n=== HASIL SEBELUM SMOTE ===\")\n",
        "print(\"Akurasi:\", accuracy_score(y_test, y_pred_no))\n",
        "print(\"Confusion Matrix:\\n\", confusion_matrix(y_test, y_pred_no))\n",
        "print(\"Classification Report:\\n\", classification_report(y_test, y_pred_no))"
      ],
      "metadata": {
        "colab": {
          "base_uri": "https://localhost:8080/"
        },
        "id": "70m2QpAcm-QR",
        "outputId": "e6e9985e-24d6-4d83-aef9-1fe7ffc4eb4a"
      },
      "execution_count": 13,
      "outputs": [
        {
          "output_type": "stream",
          "name": "stdout",
          "text": [
            "Kolom fitur: ['COL 1', 'COL 2', 'COL 3', 'COL 4']\n",
            "Kolom target: COL 5\n",
            "\n",
            "=== HASIL SEBELUM SMOTE ===\n",
            "Akurasi: 0.9714285714285714\n",
            "Confusion Matrix:\n",
            " [[ 5  0  0]\n",
            " [ 0 14  1]\n",
            " [ 0  0 15]]\n",
            "Classification Report:\n",
            "                  precision    recall  f1-score   support\n",
            "\n",
            "    Iris-setosa       1.00      1.00      1.00         5\n",
            "Iris-versicolor       1.00      0.93      0.97        15\n",
            " Iris-virginica       0.94      1.00      0.97        15\n",
            "\n",
            "       accuracy                           0.97        35\n",
            "      macro avg       0.98      0.98      0.98        35\n",
            "   weighted avg       0.97      0.97      0.97        35\n",
            "\n"
          ]
        }
      ]
    },
    {
      "cell_type": "markdown",
      "source": [
        "**BAGGING CLASSIFIER SVM SESUDAH SMOTE**"
      ],
      "metadata": {
        "id": "I-QYVuIspFRw"
      }
    },
    {
      "cell_type": "code",
      "source": [
        "# === 5. Terapkan SMOTE ===\n",
        "smote = SMOTE(random_state=42)\n",
        "X_train_sm, y_train_sm = smote.fit_resample(X_train, y_train)\n",
        "\n",
        "# === 6. Bagging SVM sesudah SMOTE ===\n",
        "clf_smote = BaggingClassifier(\n",
        "    estimator=SVC(),\n",
        "    n_estimators=50,\n",
        "    random_state=0\n",
        ")\n",
        "clf_smote.fit(X_train_sm, y_train_sm)\n",
        "y_pred_sm = clf_smote.predict(X_test)\n",
        "\n",
        "print(\"\\n=== HASIL SESUDAH SMOTE ===\")\n",
        "print(\"Akurasi:\", accuracy_score(y_test, y_pred_sm))\n",
        "print(\"Confusion Matrix:\\n\", confusion_matrix(y_test, y_pred_sm))\n",
        "print(\"Classification Report:\\n\", classification_report(y_test, y_pred_sm))\n"
      ],
      "metadata": {
        "colab": {
          "base_uri": "https://localhost:8080/"
        },
        "id": "G5WqEkMsm-4w",
        "outputId": "9bea1c75-09ee-4a26-c6ad-9524a5a5f456"
      },
      "execution_count": 14,
      "outputs": [
        {
          "output_type": "stream",
          "name": "stdout",
          "text": [
            "\n",
            "=== HASIL SESUDAH SMOTE ===\n",
            "Akurasi: 0.9714285714285714\n",
            "Confusion Matrix:\n",
            " [[ 5  0  0]\n",
            " [ 0 14  1]\n",
            " [ 0  0 15]]\n",
            "Classification Report:\n",
            "                  precision    recall  f1-score   support\n",
            "\n",
            "    Iris-setosa       1.00      1.00      1.00         5\n",
            "Iris-versicolor       1.00      0.93      0.97        15\n",
            " Iris-virginica       0.94      1.00      0.97        15\n",
            "\n",
            "       accuracy                           0.97        35\n",
            "      macro avg       0.98      0.98      0.98        35\n",
            "   weighted avg       0.97      0.97      0.97        35\n",
            "\n"
          ]
        }
      ]
    },
    {
      "cell_type": "markdown",
      "source": [
        "**Visualisasi distribusi kelas sebelum & sesudah SMOTE**"
      ],
      "metadata": {
        "id": "SukcIcMopVn_"
      }
    },
    {
      "cell_type": "code",
      "source": [
        "# === 7. Visualisasi distribusi kelas sebelum & sesudah SMOTE ===\n",
        "plt.figure(figsize=(10,4))\n",
        "\n",
        "plt.subplot(1,2,1)\n",
        "sns.countplot(x=y_train)\n",
        "plt.title(\"Distribusi Sebelum SMOTE\")\n",
        "\n",
        "plt.subplot(1,2,2)\n",
        "sns.countplot(x=y_train_sm)\n",
        "plt.title(\"Distribusi Sesudah SMOTE\")\n",
        "\n",
        "plt.show()"
      ],
      "metadata": {
        "colab": {
          "base_uri": "https://localhost:8080/",
          "height": 410
        },
        "id": "Ke-zc-A_pYJ4",
        "outputId": "8477ced7-9047-4e9a-c567-d19040bedda6"
      },
      "execution_count": 15,
      "outputs": [
        {
          "output_type": "display_data",
          "data": {
            "text/plain": [
              "<Figure size 1000x400 with 2 Axes>"
            ],
            "image/png": "[encoded data removed]"
          },
          "metadata": {}
        }
      ]
    },
    {
      "cell_type": "markdown",
      "source": [
        "**BAGGING CLASSIFIER NAIVE BAYES SEBELUM DI SMOTE**"
      ],
      "metadata": {
        "id": "27EhuJ1wmuW3"
      }
    },
    {
      "cell_type": "code",
      "source": [
        "import pandas as pd\n",
        "from sklearn.naive_bayes import GaussianNB\n",
        "from sklearn.ensemble import BaggingClassifier\n",
        "from sklearn.model_selection import train_test_split\n",
        "from sklearn.metrics import accuracy_score, confusion_matrix, classification_report\n",
        "from imblearn.over_sampling import SMOTE\n",
        "import matplotlib.pyplot as plt\n",
        "import seaborn as sns\n",
        "\n",
        "# === 1. Baca dataset lokal (ganti sesuai nama file kamu) ===\n",
        "df = pd.read_csv(\"iris (1).csv\")\n",
        "\n",
        "# === 2. Pisahkan fitur (X) dan target (y) ===\n",
        "X = df.iloc[:, :-1]   # semua kolom kecuali terakhir\n",
        "y = df.iloc[:, -1]    # kolom terakhir sebagai target\n",
        "\n",
        "print(\"Kolom fitur:\", X.columns.tolist())\n",
        "print(\"Kolom target:\", y.name)\n",
        "\n",
        "# === 3. Split train-test ===\n",
        "X_train, X_test, y_train, y_test = train_test_split(\n",
        "    X, y, test_size=0.3, random_state=42, stratify=y\n",
        ")\n",
        "\n",
        "# === 4. Bagging Naive Bayes sebelum SMOTE ===\n",
        "clf_no_smote = BaggingClassifier(\n",
        "    estimator=GaussianNB(),\n",
        "    n_estimators=50,\n",
        "    random_state=0\n",
        ")\n",
        "clf_no_smote.fit(X_train, y_train)\n",
        "y_pred_no = clf_no_smote.predict(X_test)\n",
        "\n",
        "print(\"\\n=== HASIL BAGGING NAIVE BAYES SEBELUM SMOTE ===\")\n",
        "print(\"Akurasi:\", accuracy_score(y_test, y_pred_no))\n",
        "print(\"Confusion Matrix:\\n\", confusion_matrix(y_test, y_pred_no))\n",
        "print(\"Classification Report:\\n\", classification_report(y_test, y_pred_no))"
      ],
      "metadata": {
        "colab": {
          "base_uri": "https://localhost:8080/"
        },
        "id": "ZXyy9o6Em_nH",
        "outputId": "d4231306-8a24-4479-fe8b-7e1e3bdced1b"
      },
      "execution_count": 17,
      "outputs": [
        {
          "output_type": "stream",
          "name": "stdout",
          "text": [
            "Kolom fitur: ['COL 1', 'COL 2', 'COL 3', 'COL 4']\n",
            "Kolom target: COL 5\n",
            "\n",
            "=== HASIL BAGGING NAIVE BAYES SEBELUM SMOTE ===\n",
            "Akurasi: 0.9142857142857143\n",
            "Confusion Matrix:\n",
            " [[ 5  0  0]\n",
            " [ 0 13  2]\n",
            " [ 0  1 14]]\n",
            "Classification Report:\n",
            "                  precision    recall  f1-score   support\n",
            "\n",
            "    Iris-setosa       1.00      1.00      1.00         5\n",
            "Iris-versicolor       0.93      0.87      0.90        15\n",
            " Iris-virginica       0.88      0.93      0.90        15\n",
            "\n",
            "       accuracy                           0.91        35\n",
            "      macro avg       0.93      0.93      0.93        35\n",
            "   weighted avg       0.92      0.91      0.91        35\n",
            "\n"
          ]
        }
      ]
    },
    {
      "cell_type": "markdown",
      "source": [
        "**BAGGING CLASSIFIER NAIVE BAYES SESUDAH DI SMOTE**"
      ],
      "metadata": {
        "id": "G7Z8P_wMqVl5"
      }
    },
    {
      "cell_type": "code",
      "source": [
        "# === 5. Terapkan SMOTE ===\n",
        "smote = SMOTE(random_state=42)\n",
        "X_train_sm, y_train_sm = smote.fit_resample(X_train, y_train)\n",
        "\n",
        "# === 6. Bagging Naive Bayes sesudah SMOTE ===\n",
        "clf_smote = BaggingClassifier(\n",
        "    estimator=GaussianNB(),\n",
        "    n_estimators=50,\n",
        "    random_state=0\n",
        ")\n",
        "clf_smote.fit(X_train_sm, y_train_sm)\n",
        "y_pred_sm = clf_smote.predict(X_test)\n",
        "\n",
        "print(\"\\n=== HASIL BAGGING NAIVE BAYES SESUDAH SMOTE ===\")\n",
        "print(\"Akurasi:\", accuracy_score(y_test, y_pred_sm))\n",
        "print(\"Confusion Matrix:\\n\", confusion_matrix(y_test, y_pred_sm))\n",
        "print(\"Classification Report:\\n\", classification_report(y_test, y_pred_sm))"
      ],
      "metadata": {
        "colab": {
          "base_uri": "https://localhost:8080/"
        },
        "id": "8_xwgo5Dm_8H",
        "outputId": "29130d77-ed52-4915-d942-b6a60385e3ce"
      },
      "execution_count": 18,
      "outputs": [
        {
          "output_type": "stream",
          "name": "stdout",
          "text": [
            "\n",
            "=== HASIL BAGGING NAIVE BAYES SESUDAH SMOTE ===\n",
            "Akurasi: 0.9142857142857143\n",
            "Confusion Matrix:\n",
            " [[ 5  0  0]\n",
            " [ 0 13  2]\n",
            " [ 0  1 14]]\n",
            "Classification Report:\n",
            "                  precision    recall  f1-score   support\n",
            "\n",
            "    Iris-setosa       1.00      1.00      1.00         5\n",
            "Iris-versicolor       0.93      0.87      0.90        15\n",
            " Iris-virginica       0.88      0.93      0.90        15\n",
            "\n",
            "       accuracy                           0.91        35\n",
            "      macro avg       0.93      0.93      0.93        35\n",
            "   weighted avg       0.92      0.91      0.91        35\n",
            "\n"
          ]
        }
      ]
    },
    {
      "cell_type": "markdown",
      "source": [
        "**Visualisasi distribusi kelas sebelum & sesudah SMOTE**"
      ],
      "metadata": {
        "id": "0Yu605izqmja"
      }
    },
    {
      "cell_type": "code",
      "source": [
        "# === 7. Visualisasi distribusi kelas sebelum & sesudah SMOTE ===\n",
        "plt.figure(figsize=(10,4))\n",
        "\n",
        "plt.subplot(1,2,1)\n",
        "sns.countplot(x=y_train)\n",
        "plt.title(\"Distribusi Sebelum SMOTE (NB)\")\n",
        "\n",
        "plt.subplot(1,2,2)\n",
        "sns.countplot(x=y_train_sm)\n",
        "plt.title(\"Distribusi Sesudah SMOTE (NB)\")\n",
        "\n",
        "plt.show()"
      ],
      "metadata": {
        "colab": {
          "base_uri": "https://localhost:8080/",
          "height": 410
        },
        "id": "pZ6tRqsqqnHB",
        "outputId": "d22b8ad4-dd45-4d1a-9be4-c1974b096c99"
      },
      "execution_count": 19,
      "outputs": [
        {
          "output_type": "display_data",
          "data": {
            "text/plain": [
              "<Figure size 1000x400 with 2 Axes>"
            ],
            "image/png": "[encoded data removed]"
          },
          "metadata": {}
        }
      ]
    },
    {
      "cell_type": "markdown",
      "source": [
        "# **KESIMPULAN**\n",
        "\n",
        "\n",
        "---\n",
        "\n",
        "\n",
        "Dapat disimpulkan bahwa ensemble learning merupakan strategi penting dalam machine learning karena mampu meningkatkan performa model, mengurangi risiko kesalahan, serta memperbaiki generalisasi. Walaupun memerlukan sumber daya komputasi lebih besar dan interpretasi yang lebih kompleks, ensemble learning terbukti menjadi solusi efektif untuk menghasilkan model prediksi yang lebih optimal dan andal."
      ],
      "metadata": {
        "id": "9vtuJJfTjNJn"
      }
    }
  ]
}