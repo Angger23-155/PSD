{
 "cells": [
  {
   "cell_type": "markdown",
   "metadata": {
    "id": "cljZWqmfCkf_"
   },
   "source": [
    "# **DATA UNDERSTANDING**    "
   ]
  },
  {
   "cell_type": "markdown",
   "metadata": {
    "id": "d3FeI8m5xK23"
   },
   "source": [
    "# **1. Sumber Data**\n",
    "Dataset eksternal dari Kaggle: Stroke Prediction Dataset"
   ]
  },
  {
   "cell_type": "markdown",
   "metadata": {
    "id": "ABPTbshKxPN9"
   },
   "source": [
    "# **2. Tipe Data**\n"
   ]
  },
  {
   "cell_type": "code",
   "execution_count": 1,
   "metadata": {
    "colab": {
     "base_uri": "https://localhost:8080/",
     "height": 426
    },
    "executionInfo": {
     "elapsed": 347,
     "status": "ok",
     "timestamp": 1758588668553,
     "user": {
      "displayName": "23-155 Angger Maulana Effendi",
      "userId": "13071576141889292093"
     },
     "user_tz": -420
    },
    "id": "CRDIRiUlDVnx",
    "outputId": "48329861-d833-4755-a344-f5e22c7ba3ba"
   },
   "outputs": [
    {
     "data": {
      "text/html": [
       "<table border=\"1\" class=\"dataframe\">\n",
       "  <thead>\n",
       "    <tr style=\"text-align: right;\">\n",
       "      <th>Kolom</th>\n",
       "      <th>Tipe Data</th>\n",
       "    </tr>\n",
       "  </thead>\n",
       "  <tbody>\n",
       "    <tr>\n",
       "      <td>id</td>\n",
       "      <td>int64 (numerik, ID unik)</td>\n",
       "    </tr>\n",
       "    <tr>\n",
       "      <td>gender</td>\n",
       "      <td>object (kategorikal)</td>\n",
       "    </tr>\n",
       "    <tr>\n",
       "      <td>age</td>\n",
       "      <td>float64 (numerik kontinu)</td>\n",
       "    </tr>\n",
       "    <tr>\n",
       "      <td>hypertension</td>\n",
       "      <td>int64 (diskrit/biner)</td>\n",
       "    </tr>\n",
       "    <tr>\n",
       "      <td>heart_disease</td>\n",
       "      <td>int64 (diskrit/biner)</td>\n",
       "    </tr>\n",
       "    <tr>\n",
       "      <td>ever_married</td>\n",
       "      <td>object (kategorikal)</td>\n",
       "    </tr>\n",
       "    <tr>\n",
       "      <td>work_type</td>\n",
       "      <td>object (kategorikal)</td>\n",
       "    </tr>\n",
       "    <tr>\n",
       "      <td>Residence_type</td>\n",
       "      <td>object (kategorikal)</td>\n",
       "    </tr>\n",
       "    <tr>\n",
       "      <td>avg_glucose_level</td>\n",
       "      <td>float64 (numerik kontinu)</td>\n",
       "    </tr>\n",
       "    <tr>\n",
       "      <td>bmi</td>\n",
       "      <td>float64 (numerik kontinu, ada NaN)</td>\n",
       "    </tr>\n",
       "    <tr>\n",
       "      <td>smoking_status</td>\n",
       "      <td>object (kategorikal)</td>\n",
       "    </tr>\n",
       "    <tr>\n",
       "      <td>stroke</td>\n",
       "      <td>int64 (diskrit/biner)</td>\n",
       "    </tr>\n",
       "  </tbody>\n",
       "</table>"
      ],
      "text/plain": [
       "<IPython.core.display.HTML object>"
      ]
     },
     "metadata": {},
     "output_type": "display_data"
    }
   ],
   "source": [
    "import pandas as pd\n",
    "\n",
    "# Buat tabel tipe data\n",
    "data_types = {\n",
    "    \"Kolom\": [\n",
    "        \"id\", \"gender\", \"age\", \"hypertension\", \"heart_disease\",\n",
    "        \"ever_married\", \"work_type\", \"Residence_type\",\n",
    "        \"avg_glucose_level\", \"bmi\", \"smoking_status\", \"stroke\"\n",
    "    ],\n",
    "    \"Tipe Data\": [\n",
    "        \"int64 (numerik, ID unik)\",\n",
    "        \"object (kategorikal)\",\n",
    "        \"float64 (numerik kontinu)\",\n",
    "        \"int64 (diskrit/biner)\",\n",
    "        \"int64 (diskrit/biner)\",\n",
    "        \"object (kategorikal)\",\n",
    "        \"object (kategorikal)\",\n",
    "        \"object (kategorikal)\",\n",
    "        \"float64 (numerik kontinu)\",\n",
    "        \"float64 (numerik kontinu, ada NaN)\",\n",
    "        \"object (kategorikal)\",\n",
    "        \"int64 (diskrit/biner)\"\n",
    "    ]\n",
    "}\n",
    "\n",
    "df_types = pd.DataFrame(data_types)\n",
    "\n",
    "# Tampilkan dalam bentuk tabel HTML\n",
    "from IPython.display import display, HTML\n",
    "display(HTML(df_types.to_html(index=False)))\n"
   ]
  },
  {
   "cell_type": "markdown",
   "metadata": {
    "id": "WyvR0u4yHUbZ"
   },
   "source": [
    "Connect Postgre SQL ke Power BI Menggunakan Skrip Python"
   ]
  },
  {
   "cell_type": "code",
   "execution_count": 2,
   "metadata": {
    "id": "_TbvNtfSHS5h"
   },
   "outputs": [
    {
     "ename": "ModuleNotFoundError",
     "evalue": "No module named 'psycopg2'",
     "output_type": "error",
     "traceback": [
      "\u001b[31m---------------------------------------------------------------------------\u001b[39m",
      "\u001b[31mModuleNotFoundError\u001b[39m                       Traceback (most recent call last)",
      "\u001b[36mCell\u001b[39m\u001b[36m \u001b[39m\u001b[32mIn[2]\u001b[39m\u001b[32m, line 12\u001b[39m\n\u001b[32m      9\u001b[39m port = \u001b[33m\"\u001b[39m\u001b[33m5432\u001b[39m\u001b[33m\"\u001b[39m\n\u001b[32m     10\u001b[39m database = \u001b[33m\"\u001b[39m\u001b[33mproyek_sainsdata\u001b[39m\u001b[33m\"\u001b[39m\n\u001b[32m---> \u001b[39m\u001b[32m12\u001b[39m engine = \u001b[43mcreate_engine\u001b[49m\u001b[43m(\u001b[49m\u001b[33;43mf\u001b[39;49m\u001b[33;43m\"\u001b[39;49m\u001b[33;43mpostgresql+psycopg2://\u001b[39;49m\u001b[38;5;132;43;01m{\u001b[39;49;00m\u001b[43muser\u001b[49m\u001b[38;5;132;43;01m}\u001b[39;49;00m\u001b[33;43m:\u001b[39;49m\u001b[38;5;132;43;01m{\u001b[39;49;00m\u001b[43mpassword\u001b[49m\u001b[38;5;132;43;01m}\u001b[39;49;00m\u001b[33;43m@\u001b[39;49m\u001b[38;5;132;43;01m{\u001b[39;49;00m\u001b[43mhost\u001b[49m\u001b[38;5;132;43;01m}\u001b[39;49;00m\u001b[33;43m:\u001b[39;49m\u001b[38;5;132;43;01m{\u001b[39;49;00m\u001b[43mport\u001b[49m\u001b[38;5;132;43;01m}\u001b[39;49;00m\u001b[33;43m/\u001b[39;49m\u001b[38;5;132;43;01m{\u001b[39;49;00m\u001b[43mdatabase\u001b[49m\u001b[38;5;132;43;01m}\u001b[39;49;00m\u001b[33;43m\"\u001b[39;49m\u001b[43m)\u001b[49m\n\u001b[32m     14\u001b[39m \u001b[38;5;66;03m# Query ambil data\u001b[39;00m\n\u001b[32m     15\u001b[39m query = \u001b[33m\"\u001b[39m\u001b[33mSELECT * FROM stroke_data\u001b[39m\u001b[33m\"\u001b[39m\n",
      "\u001b[36mFile \u001b[39m\u001b[32m<string>:2\u001b[39m, in \u001b[36mcreate_engine\u001b[39m\u001b[34m(url, **kwargs)\u001b[39m\n",
      "\u001b[36mFile \u001b[39m\u001b[32m/usr/local/python/3.12.1/lib/python3.12/site-packages/sqlalchemy/util/deprecations.py:281\u001b[39m, in \u001b[36mdeprecated_params.<locals>.decorate.<locals>.warned\u001b[39m\u001b[34m(fn, *args, **kwargs)\u001b[39m\n\u001b[32m    274\u001b[39m     \u001b[38;5;28;01mif\u001b[39;00m m \u001b[38;5;129;01min\u001b[39;00m kwargs:\n\u001b[32m    275\u001b[39m         _warn_with_version(\n\u001b[32m    276\u001b[39m             messages[m],\n\u001b[32m    277\u001b[39m             versions[m],\n\u001b[32m    278\u001b[39m             version_warnings[m],\n\u001b[32m    279\u001b[39m             stacklevel=\u001b[32m3\u001b[39m,\n\u001b[32m    280\u001b[39m         )\n\u001b[32m--> \u001b[39m\u001b[32m281\u001b[39m \u001b[38;5;28;01mreturn\u001b[39;00m \u001b[43mfn\u001b[49m\u001b[43m(\u001b[49m\u001b[43m*\u001b[49m\u001b[43margs\u001b[49m\u001b[43m,\u001b[49m\u001b[43m \u001b[49m\u001b[43m*\u001b[49m\u001b[43m*\u001b[49m\u001b[43mkwargs\u001b[49m\u001b[43m)\u001b[49m\n",
      "\u001b[36mFile \u001b[39m\u001b[32m/usr/local/python/3.12.1/lib/python3.12/site-packages/sqlalchemy/engine/create.py:617\u001b[39m, in \u001b[36mcreate_engine\u001b[39m\u001b[34m(url, **kwargs)\u001b[39m\n\u001b[32m    615\u001b[39m         \u001b[38;5;28;01mif\u001b[39;00m k \u001b[38;5;129;01min\u001b[39;00m kwargs:\n\u001b[32m    616\u001b[39m             dbapi_args[k] = pop_kwarg(k)\n\u001b[32m--> \u001b[39m\u001b[32m617\u001b[39m     dbapi = \u001b[43mdbapi_meth\u001b[49m\u001b[43m(\u001b[49m\u001b[43m*\u001b[49m\u001b[43m*\u001b[49m\u001b[43mdbapi_args\u001b[49m\u001b[43m)\u001b[49m\n\u001b[32m    619\u001b[39m dialect_args[\u001b[33m\"\u001b[39m\u001b[33mdbapi\u001b[39m\u001b[33m\"\u001b[39m] = dbapi\n\u001b[32m    621\u001b[39m dialect_args.setdefault(\u001b[33m\"\u001b[39m\u001b[33mcompiler_linting\u001b[39m\u001b[33m\"\u001b[39m, compiler.NO_LINTING)\n",
      "\u001b[36mFile \u001b[39m\u001b[32m/usr/local/python/3.12.1/lib/python3.12/site-packages/sqlalchemy/dialects/postgresql/psycopg2.py:696\u001b[39m, in \u001b[36mPGDialect_psycopg2.import_dbapi\u001b[39m\u001b[34m(cls)\u001b[39m\n\u001b[32m    694\u001b[39m \u001b[38;5;129m@classmethod\u001b[39m\n\u001b[32m    695\u001b[39m \u001b[38;5;28;01mdef\u001b[39;00m\u001b[38;5;250m \u001b[39m\u001b[34mimport_dbapi\u001b[39m(\u001b[38;5;28mcls\u001b[39m):\n\u001b[32m--> \u001b[39m\u001b[32m696\u001b[39m     \u001b[38;5;28;01mimport\u001b[39;00m\u001b[38;5;250m \u001b[39m\u001b[34;01mpsycopg2\u001b[39;00m\n\u001b[32m    698\u001b[39m     \u001b[38;5;28;01mreturn\u001b[39;00m psycopg2\n",
      "\u001b[31mModuleNotFoundError\u001b[39m: No module named 'psycopg2'"
     ]
    }
   ],
   "source": [
    "import pandas as pd\n",
    "from sqlalchemy import create_engine\n",
    "import numpy as np\n",
    "\n",
    "# Koneksi PostgreSQL\n",
    "user = \"postgres\"\n",
    "password = \"postgres\"\n",
    "host = \"localhost\"\n",
    "port = \"5432\"\n",
    "database = \"proyek_sainsdata\"\n",
    "\n",
    "engine = create_engine(f\"postgresql+psycopg2://{user}:{password}@{host}:{port}/{database}\")\n",
    "\n",
    "# Query ambil data\n",
    "query = \"SELECT * FROM stroke_data\"\n",
    "\n",
    "# Baca ke DataFrame\n",
    "df = pd.read_sql(query, engine)\n",
    "\n",
    "# 🔑 Perbaikan encoding & nilai aneh\n",
    "df.replace('N/A', np.nan, inplace=True)   # ganti 'N/A' jadi NaN\n",
    "df = df.applymap(lambda x: x.strip() if isinstance(x, str) else x)  # buang spasi aneh\n",
    "df = df.astype(str).apply(lambda col: col.str.encode('utf-8', 'ignore').str.decode('utf-8'))  # pastikan UTF-8\n",
    "\n",
    "# Hasil ke Power BI\n",
    "dataset = df"
   ]
  },
  {
   "cell_type": "markdown",
   "metadata": {
    "id": "6JEdgzZRxdeJ"
   },
   "source": [
    "# **3. Kualitas Data**\n",
    "Missing Values: kolombmi memiliki data kosong.\n",
    "\n",
    "*   Outliers: age, avg_glucose_level, bmi memiliki nilai ekstrem.\n",
    "*   Konsistensi Data: Rata rata data konsistensi kevalidtannya yaitu 100% valid,\n",
    "*   hanya BMI saja yang 94% datanya valid.\n",
    "\n",
    "\n",
    "\n",
    "\n"
   ]
  }
 ],
 "metadata": {
  "colab": {
   "provenance": []
  },
  "kernelspec": {
   "display_name": "Python 3",
   "name": "python3"
  },
  "language_info": {
   "codemirror_mode": {
    "name": "ipython",
    "version": 3
   },
   "file_extension": ".py",
   "mimetype": "text/x-python",
   "name": "python",
   "nbconvert_exporter": "python",
   "pygments_lexer": "ipython3",
   "version": "3.12.1"
  }
 },
 "nbformat": 4,
 "nbformat_minor": 0
}