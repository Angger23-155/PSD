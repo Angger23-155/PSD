{
 "cells": [
  {
   "cell_type": "markdown",
   "metadata": {
    "id": "-ovlX5IiwRu0"
   },
   "source": [
    "# ***Bussines Understanding***"
   ]
  },
  {
   "cell_type": "markdown",
   "metadata": {
    "id": "CU0edpwPwOG0"
   },
   "source": [
    "Business Understanding adalah tahap awal dalam proses analisis data atau Data Mining/Analytics, di mana fokusnya adalah memahami konteks bisnis dan tujuan proyek secara menyeluruh sebelum masuk ke data itu sendiri.\n",
    "\n",
    "1.Menetapkan tujuan proyek: Mengetahui apa yang ingin dicapai oleh bisnis, misalnya meningkatkan penjualan, mengurangi churn pelanggan, atau mendeteksi fraud.\n",
    "\n",
    "2.Memahami masalah bisnis: Menentukan pertanyaan atau masalah spesifik yang akan dijawab dengan data.\n",
    "\n",
    "3.Mendefinisikan kesuksesan: Menentukan bagaimana hasil analisis akan diukur, misalnya peningkatan persentase penjualan, akurasi prediksi, atau efisiensi proses.\n",
    "\n",
    "4.Merencanakan strategi analisis: Memutuskan langkah awal yang tepat, seperti jenis data yang diperlukan dan teknik analisis yang akan digunakan."
   ]
  },
  {
   "cell_type": "markdown",
   "metadata": {
    "id": "2dF9VP3ZwYAR"
   },
   "source": [
    "# ***Kesimpulan***\n",
    "Tahap Business Understanding penting untuk memastikan seluruh proses analisis data selaras dengan tujuan bisnis. Pada tahap ini, kita mengidentifikasi masalah yang ingin diselesaikan, menetapkan tujuan proyek, dan menentukan indikator kesuksesan yang jelas. Dengan pemahaman bisnis yang baik, langkah-langkah selanjutnya, termasuk pengumpulan dan analisis data, dapat dilakukan secara tepat dan efektif. Secara keseluruhan, Business Understanding menjadi fondasi agar hasil analisis data relevan dan memberikan nilai nyata bagi bisnis atau organisasi."
   ]
  }
 ],
 "metadata": {
  "colab": {
   "provenance": []
  },
  "kernelspec": {
   "display_name": "Python 3",
   "name": "python3"
  },
  "language_info": {
   "codemirror_mode": {
    "name": "ipython",
    "version": 3
   },
   "file_extension": ".py",
   "mimetype": "text/x-python",
   "name": "python",
   "nbconvert_exporter": "python",
   "pygments_lexer": "ipython3",
   "version": "3.12.1"
  }
 },
 "nbformat": 4,
 "nbformat_minor": 0
}